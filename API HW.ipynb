{
 "cells": [
  {
   "cell_type": "code",
   "execution_count": 59,
   "id": "89a7f91b-2d83-4604-a838-464cddc0882d",
   "metadata": {},
   "outputs": [],
   "source": [
    "import json\n",
    "import requests\n",
    "import pandas as pd"
   ]
  },
  {
   "cell_type": "code",
   "execution_count": 146,
   "id": "6e6c3c74-1c6d-4f63-aa6d-e8fc7f1615a0",
   "metadata": {},
   "outputs": [
    {
     "name": "stdin",
     "output_type": "stream",
     "text": [
      " aapl\n"
     ]
    }
   ],
   "source": [
    "stock=input()"
   ]
  },
  {
   "cell_type": "code",
   "execution_count": 176,
   "id": "5fa90cdf-1f67-4679-bcbc-8a1999ed22e2",
   "metadata": {},
   "outputs": [],
   "source": [
    "apikey=\"...\"\n",
    "url = \"https://yfapi.net/v6/finance/quote\"\n",
    "querystring = {\"symbols\":stock}\n",
    "headers = {\n",
    "    'x-api-key': apikey\n",
    "    }\n",
    "response = requests.request(\"GET\", url, headers=headers, params=querystring)\n",
    "if response.status_code==200:\n",
    "    stockjson=response.json()\n",
    "    if stockjson['quoteResponse']['result']==None or len(stockjson['quoteResponse']['result'])==0:\n",
    "        print('No information found')\n",
    "    else:\n",
    "        None\n",
    "else:\n",
    "    print(f\"Failed to retrieve data: {response.status_code}\")"
   ]
  },
  {
   "cell_type": "code",
   "execution_count": 175,
   "id": "099d8e0f-d618-4430-9ba0-b6b78d84ee96",
   "metadata": {},
   "outputs": [],
   "source": [
    "url2=\"https://yfapi.net/v11/finance/quoteSummary/\"+stock\n",
    "query={\"modules\":\"financialData\"}\n",
    "response2 = requests.request(\"GET\", url2, headers=headers,params=query)\n",
    "if response2.status_code==200:\n",
    "    json2=response2.json()\n",
    "    if json2['quoteSummary']['result']==None or len(json2[\"quoteSummary\"][\"result\"])==0:\n",
    "        print('No information found')\n",
    "    else:\n",
    "        None\n",
    "else:\n",
    "    print(f\"Failed to retrieve data: {response2.status_code}\")"
   ]
  },
  {
   "cell_type": "code",
   "execution_count": 151,
   "id": "914c753c-a394-4477-a266-ae5ea5b8cf1d",
   "metadata": {},
   "outputs": [
    {
     "name": "stdout",
     "output_type": "stream",
     "text": [
      "stock: {'Name': 'Apple Inc.', 'Current Market Price': 227.52, '52 Week High': 237.23, '52 Week Low': 164.08, 'Target Mean Price': 240.58}\n"
     ]
    }
   ],
   "source": [
    "data={\"Name\":stockjson['quoteResponse']['result'][0][\"longName\"],\n",
    "\"Current Market Price\":stockjson['quoteResponse']['result'][0][\"regularMarketPrice\"],\n",
    "\"52 Week High\":stockjson['quoteResponse']['result'][0][\"fiftyTwoWeekHigh\"],\n",
    "\"52 Week Low\":stockjson['quoteResponse']['result'][0][\"fiftyTwoWeekLow\"],\n",
    "\"Target Mean Price\":json2[\"quoteSummary\"][\"result\"][0][\"financialData\"][\"targetMeanPrice\"][\"raw\"]}\n",
    "print(\"stock:\",data)"
   ]
  },
  {
   "cell_type": "code",
   "execution_count": 196,
   "id": "cf2b8e0d-9596-43d1-a8d0-542ec3d05887",
   "metadata": {},
   "outputs": [
    {
     "name": "stdout",
     "output_type": "stream",
     "text": [
      "Here are 5 trending stocks: ['BTC-USD', 'SHIB-USD', 'DUO', 'SMCI', 'BIDU']\n"
     ]
    }
   ],
   "source": [
    "url3='https://yfapi.net/v1/finance/trending/US'\n",
    "response3 = requests.request(\"GET\", url3, headers=headers)\n",
    "response3json=response3.json()\n",
    "import random\n",
    "trending=[]\n",
    "for x in range(5):\n",
    "    y=random.randint(0,19)\n",
    "    z=response3json[\"finance\"][\"result\"][0][\"quotes\"][y]['symbol']\n",
    "    trending.append(z)\n",
    "print(\"Here are 5 trending stocks:\",trending)"
   ]
  },
  {
   "cell_type": "code",
   "execution_count": 219,
   "id": "c21843f3-1ecc-47ff-9c13-25d8e32ee7a0",
   "metadata": {},
   "outputs": [
    {
     "data": {
      "text/html": [
       "<div>\n",
       "<style scoped>\n",
       "    .dataframe tbody tr th:only-of-type {\n",
       "        vertical-align: middle;\n",
       "    }\n",
       "\n",
       "    .dataframe tbody tr th {\n",
       "        vertical-align: top;\n",
       "    }\n",
       "\n",
       "    .dataframe thead th {\n",
       "        text-align: right;\n",
       "    }\n",
       "</style>\n",
       "<table border=\"1\" class=\"dataframe\">\n",
       "  <thead>\n",
       "    <tr style=\"text-align: right;\">\n",
       "      <th></th>\n",
       "      <th>index</th>\n",
       "      <th>Name</th>\n",
       "      <th>Current Market Price</th>\n",
       "      <th>52 Week High</th>\n",
       "      <th>52 Week Low</th>\n",
       "      <th>Target Mean Price</th>\n",
       "    </tr>\n",
       "  </thead>\n",
       "  <tbody>\n",
       "    <tr>\n",
       "      <th>0</th>\n",
       "      <td>0</td>\n",
       "      <td>Apple Inc.</td>\n",
       "      <td>227.52</td>\n",
       "      <td>237.23</td>\n",
       "      <td>164.08</td>\n",
       "      <td>240.58</td>\n",
       "    </tr>\n",
       "    <tr>\n",
       "      <th>1</th>\n",
       "      <td>0</td>\n",
       "      <td>BTC-USD</td>\n",
       "      <td>Not Available</td>\n",
       "      <td>Not Available</td>\n",
       "      <td>Not Available</td>\n",
       "      <td>Not Available</td>\n",
       "    </tr>\n",
       "    <tr>\n",
       "      <th>2</th>\n",
       "      <td>1</td>\n",
       "      <td>SHIB-USD</td>\n",
       "      <td>Not Available</td>\n",
       "      <td>Not Available</td>\n",
       "      <td>Not Available</td>\n",
       "      <td>Not Available</td>\n",
       "    </tr>\n",
       "    <tr>\n",
       "      <th>3</th>\n",
       "      <td>2</td>\n",
       "      <td>DUO</td>\n",
       "      <td>Not Available</td>\n",
       "      <td>Not Available</td>\n",
       "      <td>Not Available</td>\n",
       "      <td>Not Available</td>\n",
       "    </tr>\n",
       "    <tr>\n",
       "      <th>4</th>\n",
       "      <td>3</td>\n",
       "      <td>SMCI</td>\n",
       "      <td>Not Available</td>\n",
       "      <td>Not Available</td>\n",
       "      <td>Not Available</td>\n",
       "      <td>Not Available</td>\n",
       "    </tr>\n",
       "    <tr>\n",
       "      <th>5</th>\n",
       "      <td>4</td>\n",
       "      <td>BIDU</td>\n",
       "      <td>Not Available</td>\n",
       "      <td>Not Available</td>\n",
       "      <td>Not Available</td>\n",
       "      <td>Not Available</td>\n",
       "    </tr>\n",
       "  </tbody>\n",
       "</table>\n",
       "</div>"
      ],
      "text/plain": [
       "   index        Name Current Market Price   52 Week High    52 Week Low  \\\n",
       "0      0  Apple Inc.               227.52         237.23         164.08   \n",
       "1      0     BTC-USD        Not Available  Not Available  Not Available   \n",
       "2      1    SHIB-USD        Not Available  Not Available  Not Available   \n",
       "3      2         DUO        Not Available  Not Available  Not Available   \n",
       "4      3        SMCI        Not Available  Not Available  Not Available   \n",
       "5      4        BIDU        Not Available  Not Available  Not Available   \n",
       "\n",
       "  Target Mean Price  \n",
       "0            240.58  \n",
       "1     Not Available  \n",
       "2     Not Available  \n",
       "3     Not Available  \n",
       "4     Not Available  \n",
       "5     Not Available  "
      ]
     },
     "metadata": {},
     "output_type": "display_data"
    }
   ],
   "source": [
    "stock_df=pd.DataFrame.from_dict([data])\n",
    "trending_df=pd.DataFrame(trending,columns=[\"Name\"])\n",
    "merged=pd.concat([stock_df,trending_df]).reset_index().fillna('Not Available')\n",
    "merged.to_csv('stocks.csv')\n",
    "display(merged)"
   ]
  }
 ],
 "metadata": {
  "kernelspec": {
   "display_name": "Python 3 (ipykernel)",
   "language": "python",
   "name": "python3"
  },
  "language_info": {
   "codemirror_mode": {
    "name": "ipython",
    "version": 3
   },
   "file_extension": ".py",
   "mimetype": "text/x-python",
   "name": "python",
   "nbconvert_exporter": "python",
   "pygments_lexer": "ipython3",
   "version": "3.12.4"
  }
 },
 "nbformat": 4,
 "nbformat_minor": 5
}
