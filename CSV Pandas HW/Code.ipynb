{
 "cells": [
  {
   "cell_type": "code",
   "execution_count": 135,
   "id": "d5a2c5f6-952e-4ed8-a4ff-af0e2403c69a",
   "metadata": {},
   "outputs": [
    {
     "data": {
      "text/html": [
       "<div>\n",
       "<style scoped>\n",
       "    .dataframe tbody tr th:only-of-type {\n",
       "        vertical-align: middle;\n",
       "    }\n",
       "\n",
       "    .dataframe tbody tr th {\n",
       "        vertical-align: top;\n",
       "    }\n",
       "\n",
       "    .dataframe thead th {\n",
       "        text-align: right;\n",
       "    }\n",
       "</style>\n",
       "<table border=\"1\" class=\"dataframe\">\n",
       "  <thead>\n",
       "    <tr style=\"text-align: right;\">\n",
       "      <th></th>\n",
       "      <th>PTS</th>\n",
       "    </tr>\n",
       "    <tr>\n",
       "      <th>School</th>\n",
       "      <th></th>\n",
       "    </tr>\n",
       "  </thead>\n",
       "  <tbody>\n",
       "    <tr>\n",
       "      <th>NC State</th>\n",
       "      <td>3101</td>\n",
       "    </tr>\n",
       "    <tr>\n",
       "      <th>North Carolina</th>\n",
       "      <td>3032</td>\n",
       "    </tr>\n",
       "    <tr>\n",
       "      <th>Duke</th>\n",
       "      <td>2830</td>\n",
       "    </tr>\n",
       "  </tbody>\n",
       "</table>\n",
       "</div>"
      ],
      "text/plain": [
       "                 PTS\n",
       "School              \n",
       "NC State        3101\n",
       "North Carolina  3032\n",
       "Duke            2830"
      ]
     },
     "execution_count": 135,
     "metadata": {},
     "output_type": "execute_result"
    }
   ],
   "source": [
    "import pandas as pd\n",
    "from IPython.display import display, Markdown\n",
    "\n",
    "#Part 1\n",
    "acc=pd.read_csv(\"acc.csv\")\n",
    "acc=acc.rename(columns={'Unnamed: 0':'Rank','Unnamed: 1':'Player','Unnamed: 2':'Class','Unnamed: 3':'Pos','Unnamed: 4':'School','Totals':'Totals G','Unnamed: 6':'MP','Unnamed: 7':'TRB','Unnamed: 8':'AST','Unnamed: 9':'STL','Unnamed: 10':'BLK','Unnamed: 11':'TOV','Unnamed: 12':'PF','Unnamed: 13':'PTS','Shooting':'Shooting FG%','Unnamed: 15':'2P%','Unnamed: 16':'3P%','Unnamed: 17':'FT%','Advanced':'Advanced PER','Unnamed: 19':'WS','Unnamed: 20':'BPM'})\n",
    "acc=acc.drop(0).reset_index()\n",
    "acc.head()\n",
    "\n",
    "acc['MP']=acc['MP'].astype(str).astype(int)\n",
    "acc['TRB']=acc['TRB'].astype(str).astype(int)\n",
    "acc['PTS']=acc['PTS'].astype(str).astype(int)\n",
    "acc['AST']=acc['AST'].astype(str).astype(int)\n",
    "acc['BLK']=acc['BLK'].astype(str).astype(int)\n",
    "\n",
    "#Part 2\n",
    "acc['PTS'].sum()\n",
    "\n",
    "acc[['Player','MP']].sort_values(by='MP',ascending=False).head(1)\n",
    "\n",
    "\n",
    "acc[['Player','MP']].sort_values(by='MP',ascending=False).head(1)\n",
    "\n",
    "acc[['Player','TRB']].sort_values(by='TRB',ascending=False).head()\n",
    "\n",
    "#Part 3\n",
    "acc_500=acc.query('MP>500')\n",
    "acc_500.sort_values(by='AST',ascending=False).head(1)[['Player']]\n",
    "acc.sort_values(by='AST',ascending=False).head(3)[['Player']]\n",
    "acc.sort_values(by='BLK',ascending=False).head(3)[['Player']]\n",
    "\n",
    "#Part 4\n",
    "acc.groupby('School').sum()[['PTS']]\n",
    "acc.groupby('School').sum()[['AST']]\n",
    "acc.groupby('School').sum()[['PTS']].sort_values(by='PTS',ascending=False).head(3)"
   ]
  },
  {
   "cell_type": "code",
   "execution_count": null,
   "id": "ce2eb810-de88-44b0-919c-09771bdbd058",
   "metadata": {},
   "outputs": [],
   "source": []
  }
 ],
 "metadata": {
  "kernelspec": {
   "display_name": "Python 3 (ipykernel)",
   "language": "python",
   "name": "python3"
  },
  "language_info": {
   "codemirror_mode": {
    "name": "ipython",
    "version": 3
   },
   "file_extension": ".py",
   "mimetype": "text/x-python",
   "name": "python",
   "nbconvert_exporter": "python",
   "pygments_lexer": "ipython3",
   "version": "3.12.4"
  }
 },
 "nbformat": 4,
 "nbformat_minor": 5
}
